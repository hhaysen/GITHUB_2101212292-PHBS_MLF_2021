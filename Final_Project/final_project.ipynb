{
 "cells": [
  {
   "cell_type": "code",
   "execution_count": 2,
   "id": "5e0abd75",
   "metadata": {},
   "outputs": [],
   "source": [
    "import pandas as pd\n",
    "import numpy as np"
   ]
  },
  {
   "cell_type": "code",
   "execution_count": 3,
   "id": "d5847c10",
   "metadata": {
    "scrolled": true
   },
   "outputs": [
    {
     "data": {
      "text/html": [
       "<div>\n",
       "<style scoped>\n",
       "    .dataframe tbody tr th:only-of-type {\n",
       "        vertical-align: middle;\n",
       "    }\n",
       "\n",
       "    .dataframe tbody tr th {\n",
       "        vertical-align: top;\n",
       "    }\n",
       "\n",
       "    .dataframe thead th {\n",
       "        text-align: right;\n",
       "    }\n",
       "</style>\n",
       "<table border=\"1\" class=\"dataframe\">\n",
       "  <thead>\n",
       "    <tr style=\"text-align: right;\">\n",
       "      <th></th>\n",
       "      <th>event</th>\n",
       "      <th>var1</th>\n",
       "      <th>var2</th>\n",
       "      <th>var3</th>\n",
       "      <th>var4</th>\n",
       "      <th>var5</th>\n",
       "      <th>var6</th>\n",
       "      <th>var7</th>\n",
       "      <th>var8</th>\n",
       "      <th>split</th>\n",
       "    </tr>\n",
       "    <tr>\n",
       "      <th>id</th>\n",
       "      <th></th>\n",
       "      <th></th>\n",
       "      <th></th>\n",
       "      <th></th>\n",
       "      <th></th>\n",
       "      <th></th>\n",
       "      <th></th>\n",
       "      <th></th>\n",
       "      <th></th>\n",
       "      <th></th>\n",
       "    </tr>\n",
       "  </thead>\n",
       "  <tbody>\n",
       "    <tr>\n",
       "      <th>0</th>\n",
       "      <td>1</td>\n",
       "      <td>NaN</td>\n",
       "      <td>NaN</td>\n",
       "      <td>NaN</td>\n",
       "      <td>NaN</td>\n",
       "      <td>NaN</td>\n",
       "      <td>NaN</td>\n",
       "      <td>NaN</td>\n",
       "      <td>NaN</td>\n",
       "      <td>dev</td>\n",
       "    </tr>\n",
       "    <tr>\n",
       "      <th>1</th>\n",
       "      <td>1</td>\n",
       "      <td>NaN</td>\n",
       "      <td>NaN</td>\n",
       "      <td>NaN</td>\n",
       "      <td>NaN</td>\n",
       "      <td>NaN</td>\n",
       "      <td>NaN</td>\n",
       "      <td>NaN</td>\n",
       "      <td>NaN</td>\n",
       "      <td>dev</td>\n",
       "    </tr>\n",
       "    <tr>\n",
       "      <th>2</th>\n",
       "      <td>1</td>\n",
       "      <td>NaN</td>\n",
       "      <td>NaN</td>\n",
       "      <td>NaN</td>\n",
       "      <td>NaN</td>\n",
       "      <td>NaN</td>\n",
       "      <td>NaN</td>\n",
       "      <td>NaN</td>\n",
       "      <td>NaN</td>\n",
       "      <td>dev</td>\n",
       "    </tr>\n",
       "    <tr>\n",
       "      <th>3</th>\n",
       "      <td>1</td>\n",
       "      <td>1.0</td>\n",
       "      <td>2.096510e+07</td>\n",
       "      <td>NaN</td>\n",
       "      <td>NaN</td>\n",
       "      <td>NaN</td>\n",
       "      <td>NaN</td>\n",
       "      <td>NaN</td>\n",
       "      <td>62.75</td>\n",
       "      <td>dev</td>\n",
       "    </tr>\n",
       "    <tr>\n",
       "      <th>4</th>\n",
       "      <td>1</td>\n",
       "      <td>NaN</td>\n",
       "      <td>NaN</td>\n",
       "      <td>NaN</td>\n",
       "      <td>NaN</td>\n",
       "      <td>NaN</td>\n",
       "      <td>NaN</td>\n",
       "      <td>NaN</td>\n",
       "      <td>NaN</td>\n",
       "      <td>dev</td>\n",
       "    </tr>\n",
       "  </tbody>\n",
       "</table>\n",
       "</div>"
      ],
      "text/plain": [
       "    event  var1          var2  var3  var4  var5  var6  var7   var8 split\n",
       "id                                                                      \n",
       "0       1   NaN           NaN   NaN   NaN   NaN   NaN   NaN    NaN   dev\n",
       "1       1   NaN           NaN   NaN   NaN   NaN   NaN   NaN    NaN   dev\n",
       "2       1   NaN           NaN   NaN   NaN   NaN   NaN   NaN    NaN   dev\n",
       "3       1   1.0  2.096510e+07   NaN   NaN   NaN   NaN   NaN  62.75   dev\n",
       "4       1   NaN           NaN   NaN   NaN   NaN   NaN   NaN    NaN   dev"
      ]
     },
     "execution_count": 3,
     "metadata": {},
     "output_type": "execute_result"
    }
   ],
   "source": [
    "train = pd.read_csv(r'D:\\PHBS\\MLF\\final project\\training.csv',index_col='id')\n",
    "train.head()"
   ]
  },
  {
   "cell_type": "code",
   "execution_count": 4,
   "id": "c85e56b2",
   "metadata": {},
   "outputs": [
    {
     "data": {
      "text/plain": [
       "event         0\n",
       "var1     105800\n",
       "var2     121800\n",
       "var3     192199\n",
       "var4     160649\n",
       "var5     230549\n",
       "var6     232897\n",
       "var7     211294\n",
       "var8     137689\n",
       "split         0\n",
       "dtype: int64"
      ]
     },
     "execution_count": 4,
     "metadata": {},
     "output_type": "execute_result"
    }
   ],
   "source": [
    "isnull_count = train.isnull().sum()\n",
    "isnull_count"
   ]
  },
  {
   "cell_type": "code",
   "execution_count": 8,
   "id": "6d758f39",
   "metadata": {},
   "outputs": [
    {
     "data": {
      "text/plain": [
       "(6032, 232804)"
      ]
     },
     "execution_count": 8,
     "metadata": {},
     "output_type": "execute_result"
    }
   ],
   "source": [
    "count_0 = train['event'].value_counts()[0]\n",
    "count_1 = train['event'].value_counts()[1]\n",
    "count_0,count_1"
   ]
  },
  {
   "cell_type": "code",
   "execution_count": 11,
   "id": "8676260f",
   "metadata": {},
   "outputs": [
    {
     "name": "stderr",
     "output_type": "stream",
     "text": [
      "C:\\Users\\Haysen\\AppData\\Local\\Temp\\ipykernel_35548\\3068383635.py:1: FutureWarning: Dropping of nuisance columns in DataFrame reductions (with 'numeric_only=None') is deprecated; in a future version this will raise TypeError.  Select only valid columns before calling the reduction.\n",
      "  train = train.fillna(train.mean())\n"
     ]
    },
    {
     "data": {
      "text/plain": [
       "event    0\n",
       "var1     0\n",
       "var2     0\n",
       "var3     0\n",
       "var4     0\n",
       "var5     0\n",
       "var6     0\n",
       "var7     0\n",
       "var8     0\n",
       "split    0\n",
       "dtype: int64"
      ]
     },
     "execution_count": 11,
     "metadata": {},
     "output_type": "execute_result"
    }
   ],
   "source": [
    "train = train.fillna(train.mean())\n",
    "train.isnull().sum()"
   ]
  },
  {
   "cell_type": "code",
   "execution_count": 12,
   "id": "01fb12e8",
   "metadata": {},
   "outputs": [
    {
     "data": {
      "text/html": [
       "<div>\n",
       "<style scoped>\n",
       "    .dataframe tbody tr th:only-of-type {\n",
       "        vertical-align: middle;\n",
       "    }\n",
       "\n",
       "    .dataframe tbody tr th {\n",
       "        vertical-align: top;\n",
       "    }\n",
       "\n",
       "    .dataframe thead th {\n",
       "        text-align: right;\n",
       "    }\n",
       "</style>\n",
       "<table border=\"1\" class=\"dataframe\">\n",
       "  <thead>\n",
       "    <tr style=\"text-align: right;\">\n",
       "      <th></th>\n",
       "      <th>var1</th>\n",
       "      <th>var2</th>\n",
       "      <th>var3</th>\n",
       "      <th>var4</th>\n",
       "      <th>var5</th>\n",
       "      <th>var6</th>\n",
       "      <th>var7</th>\n",
       "      <th>var8</th>\n",
       "    </tr>\n",
       "    <tr>\n",
       "      <th>id</th>\n",
       "      <th></th>\n",
       "      <th></th>\n",
       "      <th></th>\n",
       "      <th></th>\n",
       "      <th></th>\n",
       "      <th></th>\n",
       "      <th></th>\n",
       "      <th></th>\n",
       "    </tr>\n",
       "  </thead>\n",
       "  <tbody>\n",
       "    <tr>\n",
       "      <th>0</th>\n",
       "      <td>1.873951</td>\n",
       "      <td>5.989773e+06</td>\n",
       "      <td>16.772031</td>\n",
       "      <td>11.586977</td>\n",
       "      <td>289.199746</td>\n",
       "      <td>28.430493</td>\n",
       "      <td>20.646794</td>\n",
       "      <td>58.497153</td>\n",
       "    </tr>\n",
       "    <tr>\n",
       "      <th>1</th>\n",
       "      <td>1.873951</td>\n",
       "      <td>5.989773e+06</td>\n",
       "      <td>16.772031</td>\n",
       "      <td>11.586977</td>\n",
       "      <td>289.199746</td>\n",
       "      <td>28.430493</td>\n",
       "      <td>20.646794</td>\n",
       "      <td>58.497153</td>\n",
       "    </tr>\n",
       "    <tr>\n",
       "      <th>2</th>\n",
       "      <td>1.873951</td>\n",
       "      <td>5.989773e+06</td>\n",
       "      <td>16.772031</td>\n",
       "      <td>11.586977</td>\n",
       "      <td>289.199746</td>\n",
       "      <td>28.430493</td>\n",
       "      <td>20.646794</td>\n",
       "      <td>58.497153</td>\n",
       "    </tr>\n",
       "    <tr>\n",
       "      <th>3</th>\n",
       "      <td>1.000000</td>\n",
       "      <td>2.096510e+07</td>\n",
       "      <td>16.772031</td>\n",
       "      <td>11.586977</td>\n",
       "      <td>289.199746</td>\n",
       "      <td>28.430493</td>\n",
       "      <td>20.646794</td>\n",
       "      <td>62.750000</td>\n",
       "    </tr>\n",
       "    <tr>\n",
       "      <th>4</th>\n",
       "      <td>1.873951</td>\n",
       "      <td>5.989773e+06</td>\n",
       "      <td>16.772031</td>\n",
       "      <td>11.586977</td>\n",
       "      <td>289.199746</td>\n",
       "      <td>28.430493</td>\n",
       "      <td>20.646794</td>\n",
       "      <td>58.497153</td>\n",
       "    </tr>\n",
       "    <tr>\n",
       "      <th>...</th>\n",
       "      <td>...</td>\n",
       "      <td>...</td>\n",
       "      <td>...</td>\n",
       "      <td>...</td>\n",
       "      <td>...</td>\n",
       "      <td>...</td>\n",
       "      <td>...</td>\n",
       "      <td>...</td>\n",
       "    </tr>\n",
       "    <tr>\n",
       "      <th>238831</th>\n",
       "      <td>1.000000</td>\n",
       "      <td>6.523118e+04</td>\n",
       "      <td>16.772031</td>\n",
       "      <td>11.586977</td>\n",
       "      <td>289.199746</td>\n",
       "      <td>28.430493</td>\n",
       "      <td>20.646794</td>\n",
       "      <td>58.916667</td>\n",
       "    </tr>\n",
       "    <tr>\n",
       "      <th>238832</th>\n",
       "      <td>1.000000</td>\n",
       "      <td>5.989773e+06</td>\n",
       "      <td>16.772031</td>\n",
       "      <td>11.586977</td>\n",
       "      <td>289.199746</td>\n",
       "      <td>28.430493</td>\n",
       "      <td>20.646794</td>\n",
       "      <td>58.497153</td>\n",
       "    </tr>\n",
       "    <tr>\n",
       "      <th>238833</th>\n",
       "      <td>1.873951</td>\n",
       "      <td>5.989773e+06</td>\n",
       "      <td>16.772031</td>\n",
       "      <td>11.586977</td>\n",
       "      <td>289.199746</td>\n",
       "      <td>28.430493</td>\n",
       "      <td>20.646794</td>\n",
       "      <td>58.497153</td>\n",
       "    </tr>\n",
       "    <tr>\n",
       "      <th>238834</th>\n",
       "      <td>1.000000</td>\n",
       "      <td>8.880325e+05</td>\n",
       "      <td>3.213000</td>\n",
       "      <td>13.000000</td>\n",
       "      <td>289.199746</td>\n",
       "      <td>28.430493</td>\n",
       "      <td>20.646794</td>\n",
       "      <td>63.958333</td>\n",
       "    </tr>\n",
       "    <tr>\n",
       "      <th>238835</th>\n",
       "      <td>1.873951</td>\n",
       "      <td>5.989773e+06</td>\n",
       "      <td>16.772031</td>\n",
       "      <td>11.586977</td>\n",
       "      <td>289.199746</td>\n",
       "      <td>28.430493</td>\n",
       "      <td>20.646794</td>\n",
       "      <td>58.497153</td>\n",
       "    </tr>\n",
       "  </tbody>\n",
       "</table>\n",
       "<p>238836 rows × 8 columns</p>\n",
       "</div>"
      ],
      "text/plain": [
       "            var1          var2       var3       var4        var5       var6  \\\n",
       "id                                                                            \n",
       "0       1.873951  5.989773e+06  16.772031  11.586977  289.199746  28.430493   \n",
       "1       1.873951  5.989773e+06  16.772031  11.586977  289.199746  28.430493   \n",
       "2       1.873951  5.989773e+06  16.772031  11.586977  289.199746  28.430493   \n",
       "3       1.000000  2.096510e+07  16.772031  11.586977  289.199746  28.430493   \n",
       "4       1.873951  5.989773e+06  16.772031  11.586977  289.199746  28.430493   \n",
       "...          ...           ...        ...        ...         ...        ...   \n",
       "238831  1.000000  6.523118e+04  16.772031  11.586977  289.199746  28.430493   \n",
       "238832  1.000000  5.989773e+06  16.772031  11.586977  289.199746  28.430493   \n",
       "238833  1.873951  5.989773e+06  16.772031  11.586977  289.199746  28.430493   \n",
       "238834  1.000000  8.880325e+05   3.213000  13.000000  289.199746  28.430493   \n",
       "238835  1.873951  5.989773e+06  16.772031  11.586977  289.199746  28.430493   \n",
       "\n",
       "             var7       var8  \n",
       "id                            \n",
       "0       20.646794  58.497153  \n",
       "1       20.646794  58.497153  \n",
       "2       20.646794  58.497153  \n",
       "3       20.646794  62.750000  \n",
       "4       20.646794  58.497153  \n",
       "...           ...        ...  \n",
       "238831  20.646794  58.916667  \n",
       "238832  20.646794  58.497153  \n",
       "238833  20.646794  58.497153  \n",
       "238834  20.646794  63.958333  \n",
       "238835  20.646794  58.497153  \n",
       "\n",
       "[238836 rows x 8 columns]"
      ]
     },
     "execution_count": 12,
     "metadata": {},
     "output_type": "execute_result"
    }
   ],
   "source": [
    "Y_train = train.iloc[:,0]  \n",
    "X_train = train.iloc[:,1:9]\n",
    "X_train"
   ]
  },
  {
   "cell_type": "code",
   "execution_count": 13,
   "id": "713a3af6",
   "metadata": {},
   "outputs": [],
   "source": [
    "from sklearn.preprocessing import StandardScaler\n",
    "\n",
    "#standardize the training data\n",
    "sc = StandardScaler() \n",
    "sc.fit(X_train) \n",
    "X_train_std = sc.transform(X_train) "
   ]
  },
  {
   "cell_type": "code",
   "execution_count": 14,
   "id": "01dfbc7c",
   "metadata": {},
   "outputs": [],
   "source": [
    "from sklearn.linear_model import LogisticRegression"
   ]
  },
  {
   "cell_type": "code",
   "execution_count": 15,
   "id": "44d0bc74",
   "metadata": {},
   "outputs": [],
   "source": [
    "import matplotlib.pyplot as plt\n",
    "colors = ['blue', 'green', 'red', 'cyan', 'magenta',\n",
    "          'yellow', 'black', 'pink', 'lightgreen',\n",
    "          'lightblue', 'gray', 'indigo', 'orange']\n",
    "weights, params = [], []\n",
    "for c in np.arange(-4., 6.):\n",
    "    reg = LogisticRegression(penalty='l1', C=10.**c ,solver='liblinear',multi_class='ovr', random_state=0)\n",
    "    reg.fit(X_train_std, Y_train)\n",
    "    weights.append(reg.coef_)\n",
    "    params.append(10**c)\n",
    "weights = np.array(weights)"
   ]
  },
  {
   "cell_type": "code",
   "execution_count": 16,
   "id": "8017c54e",
   "metadata": {},
   "outputs": [
    {
     "data": {
      "text/plain": [
       "Index(['event', 'var1', 'var2', 'var3', 'var4', 'var5', 'var6', 'var7', 'var8',\n",
       "       'split'],\n",
       "      dtype='object')"
      ]
     },
     "execution_count": 16,
     "metadata": {},
     "output_type": "execute_result"
    }
   ],
   "source": [
    "train.columns"
   ]
  },
  {
   "cell_type": "code",
   "execution_count": 17,
   "id": "18a19504",
   "metadata": {},
   "outputs": [
    {
     "data": {
      "text/plain": [
       "array([[[ 0.00000000e+00,  0.00000000e+00,  0.00000000e+00,\n",
       "          0.00000000e+00,  0.00000000e+00,  0.00000000e+00,\n",
       "          0.00000000e+00,  0.00000000e+00]],\n",
       "\n",
       "       [[ 0.00000000e+00,  0.00000000e+00,  0.00000000e+00,\n",
       "          3.44821607e-01,  0.00000000e+00,  0.00000000e+00,\n",
       "          0.00000000e+00,  0.00000000e+00]],\n",
       "\n",
       "       [[-2.65503448e-02,  1.17299934e-01,  2.01200770e-02,\n",
       "          3.94949753e-01,  0.00000000e+00,  0.00000000e+00,\n",
       "          5.04813870e-02,  8.78906247e-02]],\n",
       "\n",
       "       [[-2.81262664e-02,  2.91847371e-01,  1.38163550e-01,\n",
       "          3.96060051e-01,  0.00000000e+00,  0.00000000e+00,\n",
       "          5.81354039e-02,  9.26471347e-02]],\n",
       "\n",
       "       [[-2.82454005e-02,  3.17182947e-01,  1.60071726e-01,\n",
       "          3.95946408e-01,  1.82127013e-03,  1.98889759e-04,\n",
       "          5.88298503e-02,  9.26590741e-02]],\n",
       "\n",
       "       [[-2.82573677e-02,  3.19810687e-01,  1.62404024e-01,\n",
       "          3.95931322e-01,  2.13550709e-03,  4.35950050e-04,\n",
       "          5.88977188e-02,  9.26548987e-02]],\n",
       "\n",
       "       [[-2.82585626e-02,  3.20074427e-01,  1.62638717e-01,\n",
       "          3.95929782e-01,  2.16851718e-03,  4.61196692e-04,\n",
       "          5.89044959e-02,  9.26544219e-02]],\n",
       "\n",
       "       [[-2.82586821e-02,  3.20100811e-01,  1.62662201e-01,\n",
       "          3.95929628e-01,  2.17183507e-03,  4.63738142e-04,\n",
       "          5.89051735e-02,  9.26543736e-02]],\n",
       "\n",
       "       [[-2.82586941e-02,  3.20103449e-01,  1.62664549e-01,\n",
       "          3.95929612e-01,  2.17216703e-03,  4.63992457e-04,\n",
       "          5.89052413e-02,  9.26543688e-02]],\n",
       "\n",
       "       [[-2.82586953e-02,  3.20103713e-01,  1.62664784e-01,\n",
       "          3.95929611e-01,  2.17220023e-03,  4.64017890e-04,\n",
       "          5.89052481e-02,  9.26543683e-02]]])"
      ]
     },
     "execution_count": 17,
     "metadata": {},
     "output_type": "execute_result"
    }
   ],
   "source": [
    "weights"
   ]
  },
  {
   "cell_type": "code",
   "execution_count": 18,
   "id": "58344f41",
   "metadata": {},
   "outputs": [
    {
     "data": {
      "text/plain": [
       "array([[ 0.00000000e+00,  0.00000000e+00,  0.00000000e+00,\n",
       "         0.00000000e+00,  0.00000000e+00,  0.00000000e+00,\n",
       "         0.00000000e+00,  0.00000000e+00],\n",
       "       [ 0.00000000e+00,  0.00000000e+00,  0.00000000e+00,\n",
       "         3.44821607e-01,  0.00000000e+00,  0.00000000e+00,\n",
       "         0.00000000e+00,  0.00000000e+00],\n",
       "       [-2.65503448e-02,  1.17299934e-01,  2.01200770e-02,\n",
       "         3.94949753e-01,  0.00000000e+00,  0.00000000e+00,\n",
       "         5.04813870e-02,  8.78906247e-02],\n",
       "       [-2.81262664e-02,  2.91847371e-01,  1.38163550e-01,\n",
       "         3.96060051e-01,  0.00000000e+00,  0.00000000e+00,\n",
       "         5.81354039e-02,  9.26471347e-02],\n",
       "       [-2.82454005e-02,  3.17182947e-01,  1.60071726e-01,\n",
       "         3.95946408e-01,  1.82127013e-03,  1.98889759e-04,\n",
       "         5.88298503e-02,  9.26590741e-02],\n",
       "       [-2.82573677e-02,  3.19810687e-01,  1.62404024e-01,\n",
       "         3.95931322e-01,  2.13550709e-03,  4.35950050e-04,\n",
       "         5.88977188e-02,  9.26548987e-02],\n",
       "       [-2.82585626e-02,  3.20074427e-01,  1.62638717e-01,\n",
       "         3.95929782e-01,  2.16851718e-03,  4.61196692e-04,\n",
       "         5.89044959e-02,  9.26544219e-02],\n",
       "       [-2.82586821e-02,  3.20100811e-01,  1.62662201e-01,\n",
       "         3.95929628e-01,  2.17183507e-03,  4.63738142e-04,\n",
       "         5.89051735e-02,  9.26543736e-02],\n",
       "       [-2.82586941e-02,  3.20103449e-01,  1.62664549e-01,\n",
       "         3.95929612e-01,  2.17216703e-03,  4.63992457e-04,\n",
       "         5.89052413e-02,  9.26543688e-02],\n",
       "       [-2.82586953e-02,  3.20103713e-01,  1.62664784e-01,\n",
       "         3.95929611e-01,  2.17220023e-03,  4.64017890e-04,\n",
       "         5.89052481e-02,  9.26543683e-02]])"
      ]
     },
     "execution_count": 18,
     "metadata": {},
     "output_type": "execute_result"
    }
   ],
   "source": [
    "weights = weights.reshape((10,8))\n",
    "weights"
   ]
  },
  {
   "cell_type": "code",
   "execution_count": 19,
   "id": "0942e722",
   "metadata": {},
   "outputs": [
    {
     "data": {
      "image/png": "[encoded data removed]",
      "text/plain": [
       "<Figure size 640x480 with 1 Axes>"
      ]
     },
     "metadata": {},
     "output_type": "display_data"
    }
   ],
   "source": [
    "#select features by L1 penalty\n",
    "ax = plt.subplot(111)\n",
    "for column, color in zip(range(weights.shape[1]), colors):\n",
    "    plt.plot(params, weights[:, column],\n",
    "             label=train.columns[column + 1],\n",
    "             color=color)\n",
    "plt.axhline(0, color='black', linestyle='--', linewidth=3)\n",
    "plt.xlim([10**(-5), 10**5])\n",
    "plt.ylabel('weight coefficient')\n",
    "plt.xlabel('C')\n",
    "plt.xscale('log')\n",
    "plt.legend(loc='upper left')\n",
    "ax.legend(loc='upper center',\n",
    "bbox_to_anchor=(1.38, 1.03),\n",
    "ncol=1, fancybox=True)\n",
    "plt.show()"
   ]
  },
  {
   "cell_type": "code",
   "execution_count": 20,
   "id": "c48591eb",
   "metadata": {},
   "outputs": [
    {
     "data": {
      "text/plain": [
       "'var8'"
      ]
     },
     "execution_count": 20,
     "metadata": {},
     "output_type": "execute_result"
    }
   ],
   "source": [
    "train.columns[column + 1]"
   ]
  },
  {
   "cell_type": "code",
   "execution_count": 21,
   "id": "73ff287f",
   "metadata": {},
   "outputs": [],
   "source": [
    "# character 2 and 4 are selected\n",
    "X_train_selected = train[['var2','var4']]\n",
    "sc = StandardScaler() \n",
    "sc.fit(X_train_selected) \n",
    "X_train_selected_std = sc.transform(X_train_selected) "
   ]
  },
  {
   "cell_type": "code",
   "execution_count": 22,
   "id": "032a34b9",
   "metadata": {},
   "outputs": [],
   "source": [
    "# character 1 and 2 and 4 and 8 are selected\n",
    "X_train_selected_add = train[['var1','var2','var4','var8']]\n",
    "sc = StandardScaler() \n",
    "sc.fit(X_train_selected_add) \n",
    "X_train_selected_add_std = sc.transform(X_train_selected_add) "
   ]
  },
  {
   "cell_type": "code",
   "execution_count": 23,
   "id": "9ab33cd9",
   "metadata": {},
   "outputs": [
    {
     "data": {
      "text/plain": [
       "array([[ 1.58651971e-16, -9.27056306e-16, -8.97408442e-16,\n",
       "         1.30295920e-14],\n",
       "       [ 1.58651971e-16, -9.27056306e-16, -8.97408442e-16,\n",
       "         1.30295920e-14],\n",
       "       [ 1.58651971e-16, -9.27056306e-16, -8.97408442e-16,\n",
       "         1.30295920e-14],\n",
       "       ...,\n",
       "       [ 1.58651971e-16, -9.27056306e-16, -8.97408442e-16,\n",
       "         1.30295920e-14],\n",
       "       [-3.12221308e-01, -2.11598742e-01,  7.13853435e-01,\n",
       "         7.15317894e-01],\n",
       "       [ 1.58651971e-16, -9.27056306e-16, -8.97408442e-16,\n",
       "         1.30295920e-14]])"
      ]
     },
     "execution_count": 23,
     "metadata": {},
     "output_type": "execute_result"
    }
   ],
   "source": [
    "X_train_selected_add_std"
   ]
  },
  {
   "cell_type": "code",
   "execution_count": 24,
   "id": "0087430a",
   "metadata": {},
   "outputs": [],
   "source": [
    "from matplotlib.colors import ListedColormap\n",
    "import matplotlib.pyplot as plt\n",
    "\n",
    "# To check recent matplotlib compatibility\n",
    "import matplotlib\n",
    "from distutils.version import LooseVersion\n",
    "\n",
    "\n",
    "def plot_decision_regions(X, y, classifier, test_idx=None, resolution=0.02):\n",
    "\n",
    "    # setup marker generator and color map\n",
    "    markers = ('s', 'x', 'o', '^', 'v')\n",
    "    colors = ('red', 'blue', 'lightgreen', 'gray', 'cyan')\n",
    "    cmap = ListedColormap(colors[:len(np.unique(y))])\n",
    "\n",
    "    # plot the decision surface\n",
    "    x1_min, x1_max = X[:, 0].min() - 1, X[:, 0].max() + 1\n",
    "    x2_min, x2_max = X[:, 1].min() - 1, X[:, 1].max() + 1\n",
    "    xx1, xx2 = np.meshgrid(np.arange(x1_min, x1_max, resolution),\n",
    "                           np.arange(x2_min, x2_max, resolution))\n",
    "    Z = classifier.predict(np.array([xx1.ravel(), xx2.ravel()]).T)\n",
    "    Z = Z.reshape(xx1.shape)\n",
    "    plt.contourf(xx1, xx2, Z, alpha=0.3, cmap=cmap)\n",
    "    plt.xlim(xx1.min(), xx1.max())\n",
    "    plt.ylim(xx2.min(), xx2.max())\n",
    "\n",
    "    for idx, cl in enumerate(np.unique(y)):\n",
    "        plt.scatter(x=X[y == cl, 0], \n",
    "                    y=X[y == cl, 1],\n",
    "                    alpha=0.8, \n",
    "                    color=colors[idx],\n",
    "                    marker=markers[idx], \n",
    "                    label=cl, \n",
    "                    edgecolor='black')\n",
    "\n",
    "    # highlight test examples\n",
    "    if test_idx:\n",
    "        # plot all examples\n",
    "        X_test, y_test = X[test_idx, :], y[test_idx]\n",
    "\n",
    "        \n",
    "        if LooseVersion(matplotlib.__version__) < LooseVersion('0.3.4'):\n",
    "            plt.scatter(X_test[:, 0],\n",
    "                        X_test[:, 1],\n",
    "                        c='',\n",
    "                        edgecolor='black',\n",
    "                        alpha=1.0,\n",
    "                        linewidth=1,\n",
    "                        marker='o',\n",
    "                        s=100, \n",
    "                        label='test set')\n",
    "        else:\n",
    "            plt.scatter(X_test[:, 0],\n",
    "                        X_test[:, 1],\n",
    "                        c='none',\n",
    "                        edgecolor='black',\n",
    "                        alpha=1.0,\n",
    "                        linewidth=1,\n",
    "                        marker='o',\n",
    "                        s=100, \n",
    "                        label='test set')        "
   ]
  },
  {
   "cell_type": "markdown",
   "id": "036bd265",
   "metadata": {},
   "source": [
    "# Test data"
   ]
  },
  {
   "cell_type": "code",
   "execution_count": 25,
   "id": "e4faaf65",
   "metadata": {},
   "outputs": [],
   "source": [
    "#standardize the test data\n",
    "test = pd.read_csv(r'D:\\PHBS\\MLF\\final project\\test.csv',index_col='id')\n",
    "Y_test = test['event']\n",
    "X_test_selected = test[['var2','var4']]\n",
    "X_test_selected = X_test_selected.fillna(X_test_selected.mean())\n",
    "sc = StandardScaler() \n",
    "sc.fit(X_test_selected) \n",
    "X_test_selected_std = sc.transform(X_test_selected) "
   ]
  },
  {
   "cell_type": "code",
   "execution_count": 26,
   "id": "17a7acb1",
   "metadata": {},
   "outputs": [
    {
     "data": {
      "text/plain": [
       "event        0\n",
       "var1     26290\n",
       "var2     30310\n",
       "var3     48178\n",
       "var4     40351\n",
       "var5     57604\n",
       "var6     58187\n",
       "var7     52886\n",
       "var8     34458\n",
       "split        0\n",
       "dtype: int64"
      ]
     },
     "execution_count": 26,
     "metadata": {},
     "output_type": "execute_result"
    }
   ],
   "source": [
    "isnull_count = test.isnull().sum()\n",
    "isnull_count"
   ]
  },
  {
   "cell_type": "code",
   "execution_count": 27,
   "id": "d2c01c15",
   "metadata": {},
   "outputs": [],
   "source": [
    "X_test_selected_add = test[['var1','var2','var4','var8']]  #add more variables\n",
    "X_test_selected_add = X_test_selected_add.fillna(X_test_selected_add.mean())\n",
    "sc = StandardScaler() \n",
    "sc.fit(X_test_selected_add) \n",
    "X_test_selected_add_std = sc.transform(X_test_selected_add) "
   ]
  },
  {
   "cell_type": "code",
   "execution_count": 28,
   "id": "62008fca",
   "metadata": {},
   "outputs": [
    {
     "data": {
      "text/html": [
       "<div>\n",
       "<style scoped>\n",
       "    .dataframe tbody tr th:only-of-type {\n",
       "        vertical-align: middle;\n",
       "    }\n",
       "\n",
       "    .dataframe tbody tr th {\n",
       "        vertical-align: top;\n",
       "    }\n",
       "\n",
       "    .dataframe thead th {\n",
       "        text-align: right;\n",
       "    }\n",
       "</style>\n",
       "<table border=\"1\" class=\"dataframe\">\n",
       "  <thead>\n",
       "    <tr style=\"text-align: right;\">\n",
       "      <th></th>\n",
       "      <th>var2</th>\n",
       "      <th>var4</th>\n",
       "    </tr>\n",
       "    <tr>\n",
       "      <th>id</th>\n",
       "      <th></th>\n",
       "      <th></th>\n",
       "    </tr>\n",
       "  </thead>\n",
       "  <tbody>\n",
       "    <tr>\n",
       "      <th>0</th>\n",
       "      <td>9.248254e+07</td>\n",
       "      <td>13.000000</td>\n",
       "    </tr>\n",
       "    <tr>\n",
       "      <th>1</th>\n",
       "      <td>6.126271e+06</td>\n",
       "      <td>4.000000</td>\n",
       "    </tr>\n",
       "    <tr>\n",
       "      <th>2</th>\n",
       "      <td>6.718715e+06</td>\n",
       "      <td>13.000000</td>\n",
       "    </tr>\n",
       "    <tr>\n",
       "      <th>3</th>\n",
       "      <td>3.576348e+06</td>\n",
       "      <td>13.000000</td>\n",
       "    </tr>\n",
       "    <tr>\n",
       "      <th>4</th>\n",
       "      <td>8.443072e+06</td>\n",
       "      <td>11.602955</td>\n",
       "    </tr>\n",
       "    <tr>\n",
       "      <th>...</th>\n",
       "      <td>...</td>\n",
       "      <td>...</td>\n",
       "    </tr>\n",
       "    <tr>\n",
       "      <th>59704</th>\n",
       "      <td>1.060430e+06</td>\n",
       "      <td>11.602955</td>\n",
       "    </tr>\n",
       "    <tr>\n",
       "      <th>59705</th>\n",
       "      <td>6.126271e+06</td>\n",
       "      <td>11.602955</td>\n",
       "    </tr>\n",
       "    <tr>\n",
       "      <th>59706</th>\n",
       "      <td>1.593264e+07</td>\n",
       "      <td>11.602955</td>\n",
       "    </tr>\n",
       "    <tr>\n",
       "      <th>59707</th>\n",
       "      <td>6.126271e+06</td>\n",
       "      <td>11.602955</td>\n",
       "    </tr>\n",
       "    <tr>\n",
       "      <th>59708</th>\n",
       "      <td>9.928336e+05</td>\n",
       "      <td>11.602955</td>\n",
       "    </tr>\n",
       "  </tbody>\n",
       "</table>\n",
       "<p>59709 rows × 2 columns</p>\n",
       "</div>"
      ],
      "text/plain": [
       "               var2       var4\n",
       "id                            \n",
       "0      9.248254e+07  13.000000\n",
       "1      6.126271e+06   4.000000\n",
       "2      6.718715e+06  13.000000\n",
       "3      3.576348e+06  13.000000\n",
       "4      8.443072e+06  11.602955\n",
       "...             ...        ...\n",
       "59704  1.060430e+06  11.602955\n",
       "59705  6.126271e+06  11.602955\n",
       "59706  1.593264e+07  11.602955\n",
       "59707  6.126271e+06  11.602955\n",
       "59708  9.928336e+05  11.602955\n",
       "\n",
       "[59709 rows x 2 columns]"
      ]
     },
     "execution_count": 28,
     "metadata": {},
     "output_type": "execute_result"
    }
   ],
   "source": [
    "X_test_selected"
   ]
  },
  {
   "cell_type": "code",
   "execution_count": 29,
   "id": "3424c1e1",
   "metadata": {},
   "outputs": [
    {
     "data": {
      "text/plain": [
       "array([[ 3.82234037e+00,  7.12203620e-01],\n",
       "       [ 2.06113103e-16, -3.87593198e+00],\n",
       "       [ 2.62230195e-02,  7.12203620e-01],\n",
       "       ...,\n",
       "       [ 4.34053891e-01,  0.00000000e+00],\n",
       "       [ 2.06113103e-16,  0.00000000e+00],\n",
       "       [-2.27218545e-01,  0.00000000e+00]])"
      ]
     },
     "execution_count": 29,
     "metadata": {},
     "output_type": "execute_result"
    }
   ],
   "source": [
    "X_test_selected_std"
   ]
  },
  {
   "cell_type": "code",
   "execution_count": 30,
   "id": "1ec25d47",
   "metadata": {},
   "outputs": [],
   "source": [
    "X_combined_std = np.vstack((X_train_selected_std, X_test_selected_std))\n",
    "y_combined = np.hstack((Y_train, Y_test))"
   ]
  },
  {
   "cell_type": "code",
   "execution_count": 31,
   "id": "af0f225c",
   "metadata": {},
   "outputs": [
    {
     "data": {
      "text/plain": [
       "array([[-9.27056306e-16, -8.97408442e-16],\n",
       "       [-9.27056306e-16, -8.97408442e-16],\n",
       "       [-9.27056306e-16, -8.97408442e-16],\n",
       "       ...,\n",
       "       [ 4.34053891e-01,  0.00000000e+00],\n",
       "       [ 2.06113103e-16,  0.00000000e+00],\n",
       "       [-2.27218545e-01,  0.00000000e+00]])"
      ]
     },
     "execution_count": 31,
     "metadata": {},
     "output_type": "execute_result"
    }
   ],
   "source": [
    "X_combined_std"
   ]
  },
  {
   "cell_type": "markdown",
   "id": "48646731",
   "metadata": {},
   "source": [
    "# Logistic Regression"
   ]
  },
  {
   "cell_type": "code",
   "execution_count": 41,
   "id": "0a685315",
   "metadata": {},
   "outputs": [
    {
     "name": "stderr",
     "output_type": "stream",
     "text": [
      "C:\\Users\\Haysen\\AppData\\Local\\Temp\\ipykernel_944\\2412832179.py:28: UserWarning: You passed a edgecolor/edgecolors ('black') for an unfilled marker ('x').  Matplotlib is ignoring the edgecolor in favor of the facecolor.  This behavior may change in the future.\n",
      "  plt.scatter(x=X[y == cl, 0],\n"
     ]
    },
    {
     "data": {
      "image/png": "[encoded data removed]",
      "text/plain": [
       "<Figure size 640x480 with 1 Axes>"
      ]
     },
     "metadata": {},
     "output_type": "display_data"
    }
   ],
   "source": [
    "lr = LogisticRegression(C=1, random_state=2, solver='liblinear', multi_class='ovr')\n",
    "lr.fit(X_train_selected_std, Y_train)\n",
    "plot_decision_regions(X_combined_std, y_combined,classifier=lr)\n",
    "plt.xlabel('var2')\n",
    "plt.ylabel('var4')\n",
    "plt.legend(loc='upper left')\n",
    "plt.tight_layout()\n",
    "plt.show()"
   ]
  },
  {
   "cell_type": "code",
   "execution_count": 42,
   "id": "7c131f98",
   "metadata": {},
   "outputs": [
    {
     "data": {
      "text/plain": [
       "array([[0.00324009, 0.99675991],\n",
       "       [0.09903016, 0.90096984],\n",
       "       [0.01607672, 0.98392328],\n",
       "       [0.01703988, 0.98296012],\n",
       "       [0.02078561, 0.97921439],\n",
       "       [0.01816836, 0.98183164],\n",
       "       [0.0177619 , 0.9822381 ],\n",
       "       [0.01769407, 0.98230593],\n",
       "       [0.02169224, 0.97830776],\n",
       "       [0.01691136, 0.98308864],\n",
       "       [0.02169224, 0.97830776],\n",
       "       [0.01702018, 0.98297982],\n",
       "       [0.01719943, 0.98280057],\n",
       "       [0.01818542, 0.98181458],\n",
       "       [0.01819343, 0.98180657],\n",
       "       [0.01625412, 0.98374588],\n",
       "       [0.01625412, 0.98374588],\n",
       "       [0.01625412, 0.98374588],\n",
       "       [0.01815433, 0.98184567],\n",
       "       [0.02169224, 0.97830776],\n",
       "       [0.17130744, 0.82869256],\n",
       "       [0.02169224, 0.97830776],\n",
       "       [0.02169224, 0.97830776],\n",
       "       [0.01625412, 0.98374588],\n",
       "       [0.02081942, 0.97918058],\n",
       "       [0.01794741, 0.98205259],\n",
       "       [0.01816366, 0.98183634],\n",
       "       [0.0178577 , 0.9821423 ],\n",
       "       [0.01820462, 0.98179538],\n",
       "       [0.01592169, 0.98407831]])"
      ]
     },
     "execution_count": 42,
     "metadata": {},
     "output_type": "execute_result"
    }
   ],
   "source": [
    "lr.predict_proba(X_test_selected_std[:30, :])"
   ]
  },
  {
   "cell_type": "code",
   "execution_count": 43,
   "id": "13f9c1c1",
   "metadata": {},
   "outputs": [
    {
     "name": "stdout",
     "output_type": "stream",
     "text": [
      "Test Accuracy: 0.975\n"
     ]
    }
   ],
   "source": [
    "y_pred = lr.predict(X_test_selected_std)\n",
    "print('Test Accuracy: %.3f' % lr.score(X_test_selected_std, Y_test))"
   ]
  },
  {
   "cell_type": "code",
   "execution_count": 71,
   "id": "af0b7753",
   "metadata": {},
   "outputs": [
    {
     "data": {
      "text/plain": [
       "1"
      ]
     },
     "execution_count": 71,
     "metadata": {},
     "output_type": "execute_result"
    }
   ],
   "source": [
    "y_pred[6976]"
   ]
  },
  {
   "cell_type": "code",
   "execution_count": 60,
   "id": "b5fe6386",
   "metadata": {},
   "outputs": [
    {
     "name": "stdout",
     "output_type": "stream",
     "text": [
      "Test Accuracy: 0.975\n"
     ]
    }
   ],
   "source": [
    "#use more variable to do the regression\n",
    "lr = LogisticRegression(C=1, random_state=2, solver='liblinear', multi_class='ovr')\n",
    "lr.fit(X_train_selected_add_std, Y_train)\n",
    "y_pred = lr.predict(X_test_selected_add_std)\n",
    "print('Test Accuracy: %.3f' % lr.score(X_test_selected_add_std, Y_test))"
   ]
  },
  {
   "cell_type": "markdown",
   "id": "f2ed51bd",
   "metadata": {},
   "source": [
    "# Confusion Matrix"
   ]
  },
  {
   "cell_type": "code",
   "execution_count": 44,
   "id": "728cbccd",
   "metadata": {},
   "outputs": [
    {
     "data": {
      "image/png": "[encoded data removed]",
      "text/plain": [
       "<Figure size 250x250 with 1 Axes>"
      ]
     },
     "metadata": {},
     "output_type": "display_data"
    },
    {
     "name": "stdout",
     "output_type": "stream",
     "text": [
      "Precision: 0.975\n",
      "Recall: 1.000\n",
      "F1: 0.987\n"
     ]
    }
   ],
   "source": [
    "from sklearn.metrics import confusion_matrix\n",
    "confmat = confusion_matrix(y_true=Y_test, y_pred=y_pred)\n",
    "fig, ax = plt.subplots(figsize=(2.5, 2.5))\n",
    "ax.matshow(confmat, cmap=plt.cm.Blues, alpha=0.3)\n",
    "for i in range(confmat.shape[0]):\n",
    "    for j in range(confmat.shape[1]):\n",
    "        ax.text(x=j, y=i, s=confmat[i, j], va='center', ha='center')\n",
    "\n",
    "plt.xlabel('Predicted label')\n",
    "plt.ylabel('True label')\n",
    "\n",
    "plt.tight_layout()\n",
    "#plt.savefig('images/06_09.png', dpi=300)\n",
    "plt.show()\n",
    "\n",
    "from sklearn.metrics import precision_score, recall_score, f1_score\n",
    "\n",
    "print('Precision: %.3f' % precision_score(y_true=Y_test, y_pred=y_pred))\n",
    "print('Recall: %.3f' % recall_score(y_true=Y_test, y_pred=y_pred))\n",
    "print('F1: %.3f' % f1_score(y_true=Y_test, y_pred=y_pred))"
   ]
  },
  {
   "cell_type": "code",
   "execution_count": 61,
   "id": "2018efa4",
   "metadata": {},
   "outputs": [
    {
     "data": {
      "image/png": "[encoded data removed]",
      "text/plain": [
       "<Figure size 250x250 with 1 Axes>"
      ]
     },
     "metadata": {},
     "output_type": "display_data"
    },
    {
     "name": "stdout",
     "output_type": "stream",
     "text": [
      "Precision: 0.975\n",
      "Recall: 1.000\n",
      "F1: 0.987\n"
     ]
    }
   ],
   "source": [
    "from sklearn.metrics import confusion_matrix\n",
    "confmat = confusion_matrix(y_true=Y_test, y_pred=y_pred)\n",
    "fig, ax = plt.subplots(figsize=(2.5, 2.5))\n",
    "ax.matshow(confmat, cmap=plt.cm.Blues, alpha=0.3)\n",
    "for i in range(confmat.shape[0]):\n",
    "    for j in range(confmat.shape[1]):\n",
    "        ax.text(x=j, y=i, s=confmat[i, j], va='center', ha='center')\n",
    "\n",
    "plt.xlabel('Predicted label')\n",
    "plt.ylabel('True label')\n",
    "\n",
    "plt.tight_layout()\n",
    "#plt.savefig('images/06_09.png', dpi=300)\n",
    "plt.show()\n",
    "\n",
    "from sklearn.metrics import precision_score, recall_score, f1_score\n",
    "\n",
    "print('Precision: %.3f' % precision_score(y_true=Y_test, y_pred=y_pred))\n",
    "print('Recall: %.3f' % recall_score(y_true=Y_test, y_pred=y_pred))\n",
    "print('F1: %.3f' % f1_score(y_true=Y_test, y_pred=y_pred))"
   ]
  },
  {
   "cell_type": "code",
   "execution_count": 30,
   "id": "db0b1341",
   "metadata": {},
   "outputs": [
    {
     "name": "stderr",
     "output_type": "stream",
     "text": [
      "C:\\Users\\Haysen\\AppData\\Local\\Temp\\ipykernel_944\\2412832179.py:28: UserWarning: You passed a edgecolor/edgecolors ('black') for an unfilled marker ('x').  Matplotlib is ignoring the edgecolor in favor of the facecolor.  This behavior may change in the future.\n",
      "  plt.scatter(x=X[y == cl, 0],\n"
     ]
    },
    {
     "data": {
      "image/png": "[encoded data removed]",
      "text/plain": [
       "<Figure size 640x480 with 1 Axes>"
      ]
     },
     "metadata": {},
     "output_type": "display_data"
    }
   ],
   "source": [
    "lr = LogisticRegression(C=10, random_state=1, solver='liblinear', multi_class='ovr')\n",
    "lr.fit(X_train_selected_std, Y_train)\n",
    "plot_decision_regions(X_combined_std, y_combined,classifier=lr)\n",
    "plt.xlabel('age [standardized]')\n",
    "plt.ylabel('NumberOfTime30-59DaysPastDueNotWorse [standardized]')\n",
    "plt.legend(loc='upper left')\n",
    "plt.tight_layout()\n",
    "plt.show()"
   ]
  },
  {
   "cell_type": "markdown",
   "id": "20af7d52",
   "metadata": {},
   "source": [
    "# Decision Tree"
   ]
  },
  {
   "cell_type": "code",
   "execution_count": 31,
   "id": "5869bfaa",
   "metadata": {},
   "outputs": [
    {
     "data": {
      "text/plain": [
       "DecisionTreeClassifier(max_depth=6, random_state=1)"
      ]
     },
     "execution_count": 31,
     "metadata": {},
     "output_type": "execute_result"
    }
   ],
   "source": [
    "from sklearn.tree import DecisionTreeClassifier\n",
    "\n",
    "tree_model = DecisionTreeClassifier(criterion='gini', \n",
    "                                    max_depth=6, \n",
    "                                    random_state=1)\n",
    "tree_model.fit(X_train_selected_std, Y_train)"
   ]
  },
  {
   "cell_type": "code",
   "execution_count": 33,
   "id": "3f6c0ac5",
   "metadata": {},
   "outputs": [
    {
     "name": "stderr",
     "output_type": "stream",
     "text": [
      "C:\\Users\\Haysen\\AppData\\Local\\Temp\\ipykernel_944\\2412832179.py:28: UserWarning: You passed a edgecolor/edgecolors ('black') for an unfilled marker ('x').  Matplotlib is ignoring the edgecolor in favor of the facecolor.  This behavior may change in the future.\n",
      "  plt.scatter(x=X[y == cl, 0],\n"
     ]
    },
    {
     "data": {
      "image/png": "[encoded data removed]",
      "text/plain": [
       "<Figure size 640x480 with 1 Axes>"
      ]
     },
     "metadata": {},
     "output_type": "display_data"
    }
   ],
   "source": [
    "plot_decision_regions(X_combined_std, y_combined,classifier=tree_model)\n",
    "plt.xlabel('var2')\n",
    "plt.ylabel('var4')\n",
    "plt.legend(loc='upper left')\n",
    "plt.tight_layout()\n",
    "plt.show()"
   ]
  },
  {
   "cell_type": "code",
   "execution_count": 35,
   "id": "7e2dfef2",
   "metadata": {},
   "outputs": [
    {
     "name": "stdout",
     "output_type": "stream",
     "text": [
      "Test Accuracy: 0.975\n"
     ]
    }
   ],
   "source": [
    "y_pred = tree_model.predict(X_test_selected_std)\n",
    "print('Test Accuracy: %.3f' % tree_model.score(X_test_selected_std, Y_test))"
   ]
  },
  {
   "cell_type": "code",
   "execution_count": 37,
   "id": "724982eb",
   "metadata": {},
   "outputs": [
    {
     "name": "stderr",
     "output_type": "stream",
     "text": [
      "C:\\Users\\Haysen\\AppData\\Local\\Temp\\ipykernel_944\\2412832179.py:28: UserWarning: You passed a edgecolor/edgecolors ('black') for an unfilled marker ('x').  Matplotlib is ignoring the edgecolor in favor of the facecolor.  This behavior may change in the future.\n",
      "  plt.scatter(x=X[y == cl, 0],\n"
     ]
    },
    {
     "data": {
      "image/png": "[encoded data removed]",
      "text/plain": [
       "<Figure size 640x480 with 1 Axes>"
      ]
     },
     "metadata": {},
     "output_type": "display_data"
    }
   ],
   "source": [
    "tree_model = DecisionTreeClassifier(criterion='gini', \n",
    "                                    max_depth=5, \n",
    "                                    random_state=1)\n",
    "tree_model.fit(X_train_selected_std, Y_train)\n",
    "plot_decision_regions(X_combined_std, y_combined,classifier=tree_model)\n",
    "plt.xlabel('var2')\n",
    "plt.ylabel('var4')\n",
    "plt.legend(loc='upper left')\n",
    "plt.tight_layout()\n",
    "plt.show()"
   ]
  },
  {
   "cell_type": "markdown",
   "id": "38b9892b",
   "metadata": {},
   "source": [
    "# Confusion Matrix"
   ]
  },
  {
   "cell_type": "code",
   "execution_count": 38,
   "id": "9ad6281d",
   "metadata": {},
   "outputs": [],
   "source": [
    "from sklearn.metrics import confusion_matrix"
   ]
  },
  {
   "cell_type": "code",
   "execution_count": 39,
   "id": "5ea064e8",
   "metadata": {},
   "outputs": [
    {
     "data": {
      "image/png": "[encoded data removed]",
      "text/plain": [
       "<Figure size 250x250 with 1 Axes>"
      ]
     },
     "metadata": {},
     "output_type": "display_data"
    }
   ],
   "source": [
    "confmat = confusion_matrix(y_true=Y_test, y_pred=y_pred)\n",
    "fig, ax = plt.subplots(figsize=(2.5, 2.5))\n",
    "ax.matshow(confmat, cmap=plt.cm.Blues, alpha=0.3)\n",
    "for i in range(confmat.shape[0]):\n",
    "    for j in range(confmat.shape[1]):\n",
    "        ax.text(x=j, y=i, s=confmat[i, j], va='center', ha='center')\n",
    "\n",
    "plt.xlabel('Predicted label')\n",
    "plt.ylabel('True label')\n",
    "\n",
    "plt.tight_layout()\n",
    "#plt.savefig('images/06_09.png', dpi=300)\n",
    "plt.show()"
   ]
  },
  {
   "cell_type": "code",
   "execution_count": 40,
   "id": "eda87343",
   "metadata": {},
   "outputs": [
    {
     "name": "stdout",
     "output_type": "stream",
     "text": [
      "Precision: 0.975\n",
      "Recall: 1.000\n",
      "F1: 0.987\n"
     ]
    }
   ],
   "source": [
    "from sklearn.metrics import precision_score, recall_score, f1_score\n",
    "\n",
    "print('Precision: %.3f' % precision_score(y_true=Y_test, y_pred=y_pred))\n",
    "print('Recall: %.3f' % recall_score(y_true=Y_test, y_pred=y_pred))\n",
    "print('F1: %.3f' % f1_score(y_true=Y_test, y_pred=y_pred))"
   ]
  },
  {
   "cell_type": "markdown",
   "id": "57830d6d",
   "metadata": {},
   "source": [
    "# Dealing with data imbalances"
   ]
  },
  {
   "cell_type": "markdown",
   "id": "e0a19330",
   "metadata": {},
   "source": [
    "## Sub-Sampling"
   ]
  },
  {
   "cell_type": "code",
   "execution_count": 11,
   "id": "b52580e5",
   "metadata": {},
   "outputs": [],
   "source": [
    "import pandas as pd\n",
    "import numpy as np"
   ]
  },
  {
   "cell_type": "code",
   "execution_count": 15,
   "id": "9169270c",
   "metadata": {},
   "outputs": [],
   "source": [
    "train = pd.read_csv(r'D:\\PHBS\\MLF\\final project\\training.csv',index_col='id')\n",
    "test = pd.read_csv(r'D:\\PHBS\\MLF\\final project\\test.csv',index_col='id')"
   ]
  },
  {
   "cell_type": "code",
   "execution_count": 16,
   "id": "8aa817a0",
   "metadata": {},
   "outputs": [],
   "source": [
    "# Calculate the number of missing values per row\n",
    "train['missing_values_count'] = train.isna().sum(axis=1)\n",
    "\n",
    "# Delete rows with a value of 1 in the first column and a missing value greater than 7\n",
    "train = train.loc[~((train['event'] == 1) & (train['missing_values_count'] >= 7))]\n",
    "\n",
    "# Delete the 'missing_values_count' column we created\n",
    "train = train.drop(columns=['missing_values_count'])"
   ]
  },
  {
   "cell_type": "code",
   "execution_count": 17,
   "id": "821e7a8c",
   "metadata": {},
   "outputs": [
    {
     "data": {
      "text/plain": [
       "(6032, 132564)"
      ]
     },
     "execution_count": 17,
     "metadata": {},
     "output_type": "execute_result"
    }
   ],
   "source": [
    "count_0 = train['event'].value_counts()[0]\n",
    "count_1 = train['event'].value_counts()[1]\n",
    "count_0,count_1"
   ]
  },
  {
   "cell_type": "code",
   "execution_count": 18,
   "id": "c3008833",
   "metadata": {},
   "outputs": [
    {
     "name": "stderr",
     "output_type": "stream",
     "text": [
      "C:\\Users\\Haysen\\AppData\\Local\\Temp\\ipykernel_14884\\3856128939.py:1: FutureWarning: Dropping of nuisance columns in DataFrame reductions (with 'numeric_only=None') is deprecated; in a future version this will raise TypeError.  Select only valid columns before calling the reduction.\n",
      "  train = train.fillna(train.mean())\n"
     ]
    }
   ],
   "source": [
    "train = train.fillna(train.mean())\n",
    "y_train = train.iloc[:,0]  \n",
    "X_train = train.iloc[:,1:9]\n",
    "# X_train = train[['var1','var2','var4','var8']]\n",
    "\n",
    "y_test = test['event']\n",
    "# X_test = test[['var1','var2','var4','var8']]\n",
    "X_test = test.iloc[:,1:9]\n",
    "X_test= X_test.fillna(X_test.mean())"
   ]
  },
  {
   "cell_type": "code",
   "execution_count": 19,
   "id": "68cb1cc0",
   "metadata": {},
   "outputs": [
    {
     "data": {
      "text/plain": [
       "(1493, 58216)"
      ]
     },
     "execution_count": 19,
     "metadata": {},
     "output_type": "execute_result"
    }
   ],
   "source": [
    "count_0 = y_test.value_counts()[0]\n",
    "count_1 = y_test.value_counts()[1]\n",
    "count_0,count_1"
   ]
  },
  {
   "cell_type": "code",
   "execution_count": 20,
   "id": "032d54d5",
   "metadata": {},
   "outputs": [],
   "source": [
    "from imblearn.over_sampling import RandomOverSampler"
   ]
  },
  {
   "cell_type": "code",
   "execution_count": 21,
   "id": "c0546aca",
   "metadata": {},
   "outputs": [],
   "source": [
    "ros = RandomOverSampler(random_state=42,sampling_strategy=0.5)\n",
    "X_train, y_train = ros.fit_resample(X_train, y_train)"
   ]
  },
  {
   "cell_type": "code",
   "execution_count": 22,
   "id": "131b5965",
   "metadata": {},
   "outputs": [
    {
     "data": {
      "text/plain": [
       "((198846, 8), (198846,))"
      ]
     },
     "execution_count": 22,
     "metadata": {},
     "output_type": "execute_result"
    }
   ],
   "source": [
    "X_train.shape,y_train.shape"
   ]
  },
  {
   "cell_type": "code",
   "execution_count": 396,
   "id": "498f46d7",
   "metadata": {},
   "outputs": [
    {
     "data": {
      "text/plain": [
       "(66282, 132564)"
      ]
     },
     "execution_count": 396,
     "metadata": {},
     "output_type": "execute_result"
    }
   ],
   "source": [
    "count_0 = y_train.value_counts()[0]\n",
    "count_1 = y_train.value_counts()[1]\n",
    "count_0,count_1"
   ]
  },
  {
   "cell_type": "code",
   "execution_count": 397,
   "id": "ba651a66",
   "metadata": {},
   "outputs": [],
   "source": [
    "from sklearn.preprocessing import StandardScaler\n",
    "from sklearn.decomposition import PCA\n",
    "from sklearn.linear_model import LogisticRegression\n",
    "from sklearn.pipeline import make_pipeline\n",
    "\n",
    "# lr = LogisticRegression(C=1, random_state=2, solver='liblinear', multi_class='ovr')\n",
    "pipe_lr = make_pipeline(StandardScaler(),\n",
    "                        PCA(n_components=6),\n",
    "                        LogisticRegression(random_state=2,solver='liblinear',class_weight='balanced'))\n",
    "\n",
    "pipe_lr.fit(X_train, y_train)\n",
    "y_pred = pipe_lr.predict(X_test)"
   ]
  },
  {
   "cell_type": "code",
   "execution_count": 398,
   "id": "7a27a12e",
   "metadata": {},
   "outputs": [
    {
     "data": {
      "image/png": "[encoded data removed]",
      "text/plain": [
       "<Figure size 250x250 with 1 Axes>"
      ]
     },
     "metadata": {},
     "output_type": "display_data"
    },
    {
     "name": "stdout",
     "output_type": "stream",
     "text": [
      "Precision: 0.070\n",
      "Recall: 0.267\n",
      "F1: 0.110\n",
      "Test Accuracy: 0.892\n"
     ]
    }
   ],
   "source": [
    "confmat = confusion_matrix(y_true=y_test, y_pred=y_pred)\n",
    "fig, ax = plt.subplots(figsize=(2.5, 2.5))\n",
    "ax.matshow(confmat, cmap=plt.cm.Blues, alpha=0.3)\n",
    "for i in range(confmat.shape[0]):\n",
    "    for j in range(confmat.shape[1]):\n",
    "        ax.text(x=j, y=i, s=confmat[i, j], va='center', ha='center')\n",
    "\n",
    "plt.xlabel('Predicted label')\n",
    "plt.ylabel('True label')\n",
    "\n",
    "plt.tight_layout()\n",
    "#plt.savefig('images/06_09.png', dpi=300)\n",
    "plt.show()\n",
    "\n",
    "from sklearn.metrics import precision_score, recall_score, f1_score\n",
    "\n",
    "print('Precision: %.3f' % precision_score(y_true=y_test, y_pred=y_pred,pos_label=0))\n",
    "print('Recall: %.3f' % recall_score(y_true=y_test, y_pred=y_pred,pos_label=0))\n",
    "print('F1: %.3f' % f1_score(y_true=y_test, y_pred=y_pred,pos_label=0))\n",
    "print('Test Accuracy: %.3f' % pipe_lr.score(X_test, y_test))"
   ]
  },
  {
   "cell_type": "markdown",
   "id": "100b09f0",
   "metadata": {},
   "source": [
    "# PR Curve"
   ]
  },
  {
   "cell_type": "code",
   "execution_count": 342,
   "id": "ebedbd46",
   "metadata": {},
   "outputs": [
    {
     "name": "stdout",
     "output_type": "stream",
     "text": [
      "              precision    recall  f1-score   support\n",
      "\n",
      "           0       0.03      1.00      0.05      1493\n",
      "           1       0.99      0.00      0.00     58216\n",
      "\n",
      "    accuracy                           0.03     59709\n",
      "   macro avg       0.51      0.50      0.03     59709\n",
      "weighted avg       0.96      0.03      0.00     59709\n",
      "\n"
     ]
    },
    {
     "name": "stderr",
     "output_type": "stream",
     "text": [
      "D:\\anaconda\\conda\\lib\\site-packages\\sklearn\\utils\\deprecation.py:87: FutureWarning: Function plot_precision_recall_curve is deprecated; Function `plot_precision_recall_curve` is deprecated in 1.0 and will be removed in 1.2. Use one of the class methods: PrecisionRecallDisplay.from_predictions or PrecisionRecallDisplay.from_estimator.\n",
      "  warnings.warn(msg, category=FutureWarning)\n"
     ]
    },
    {
     "data": {
      "text/plain": [
       "0.18477493861170202"
      ]
     },
     "execution_count": 342,
     "metadata": {},
     "output_type": "execute_result"
    },
    {
     "data": {
      "image/png": "[encoded data removed]",
      "text/plain": [
       "<Figure size 640x480 with 1 Axes>"
      ]
     },
     "metadata": {},
     "output_type": "display_data"
    }
   ],
   "source": [
    "from sklearn.metrics import precision_recall_curve, plot_precision_recall_curve\n",
    "from sklearn.metrics import classification_report\n",
    "\n",
    "y_pred_proba = pipe_lr.predict_proba(X_test)[:, 0]  # 获取预测概率 (注意这里修改为[:, 0])\n",
    "precision, recall, thresholds = precision_recall_curve(y_test, y_pred_proba, pos_label=0)  # pos_label设置为0\n",
    "\n",
    "# 画出PR曲线\n",
    "plot_precision_recall_curve(pipe_lr, X_test, y_test, pos_label=0)  # pos_label设置为0\n",
    "\n",
    "# 找到召回率>=0.5的最佳阈值\n",
    "optimal_threshold = thresholds[np.argmax(recall >= 0.5)]\n",
    "y_pred_custom_threshold = (y_pred_proba > optimal_threshold).astype(int)\n",
    "y_pred_custom_threshold = 1 - y_pred_custom_threshold  # 将0和1的标签互换，因为我们关注的是0\n",
    "\n",
    "print(classification_report(y_test, y_pred_custom_threshold))\n",
    "optimal_threshold"
   ]
  },
  {
   "cell_type": "markdown",
   "id": "7ce05585",
   "metadata": {},
   "source": [
    "# grid search"
   ]
  },
  {
   "cell_type": "code",
   "execution_count": 235,
   "id": "61884058",
   "metadata": {},
   "outputs": [
    {
     "name": "stdout",
     "output_type": "stream",
     "text": [
      "0.84313976369574\n",
      "{'logisticregression__C': 0.01}\n",
      "0.84313976369574\n",
      "{'logisticregression__C': 0.01}\n"
     ]
    }
   ],
   "source": [
    "from sklearn.model_selection import GridSearchCV\n",
    "\n",
    "param_grid = {'logisticregression__C': [0.01, 0.1, 1, 10, 100]}\n",
    "\n",
    "gs = GridSearchCV(estimator=pipe_lr, \n",
    "                  param_grid=param_grid, \n",
    "                  scoring='recall', \n",
    "                  refit=True,\n",
    "                  cv=10,\n",
    "                  n_jobs=-1)\n",
    "\n",
    "gs = gs.fit(X_train, y_train)\n",
    "\n",
    "\n",
    "gs_1 = GridSearchCV(estimator=pipe_lr, \n",
    "                  param_grid=param_grid, \n",
    "                  scoring='accuracy', \n",
    "                  refit=True,\n",
    "                  cv=10,\n",
    "                  n_jobs=-1)\n",
    "\n",
    "gs_1 = gs.fit(X_train, y_train)\n",
    "\n",
    "\n",
    "print(gs.best_score_)\n",
    "print(gs.best_params_)\n",
    "print(gs_1.best_score_)\n",
    "print(gs_1.best_params_)"
   ]
  },
  {
   "cell_type": "markdown",
   "id": "ad00a34f",
   "metadata": {},
   "source": [
    "# Try using XGBoost and Random Forest"
   ]
  },
  {
   "cell_type": "markdown",
   "id": "7f54c6fe",
   "metadata": {},
   "source": [
    "# XGBoost"
   ]
  },
  {
   "cell_type": "code",
   "execution_count": 244,
   "id": "b7bafa66",
   "metadata": {},
   "outputs": [],
   "source": [
    "from xgboost import XGBClassifier"
   ]
  },
  {
   "cell_type": "code",
   "execution_count": 281,
   "id": "4cec418d",
   "metadata": {},
   "outputs": [
    {
     "name": "stderr",
     "output_type": "stream",
     "text": [
      "D:\\anaconda\\conda\\lib\\site-packages\\xgboost\\sklearn.py:1395: UserWarning: `use_label_encoder` is deprecated in 1.7.0.\n",
      "  warnings.warn(\"`use_label_encoder` is deprecated in 1.7.0.\")\n"
     ]
    }
   ],
   "source": [
    "xgb = XGBClassifier(random_state=42, use_label_encoder=False, eval_metric='logloss')\n",
    "pipe_xgb = make_pipeline(StandardScaler(),\n",
    "                        PCA(n_components=6),\n",
    "                        XGBClassifier(random_state=42, use_label_encoder=False, eval_metric='logloss')\n",
    "                        )\n",
    "# class_weight='balanced'\n",
    "pipe_xgb.fit(X_train, y_train)\n",
    "y_pred = pipe_xgb.predict(X_test)"
   ]
  },
  {
   "cell_type": "code",
   "execution_count": 282,
   "id": "eef8aee2",
   "metadata": {},
   "outputs": [
    {
     "data": {
      "image/png": "[encoded data removed]",
      "text/plain": [
       "<Figure size 250x250 with 1 Axes>"
      ]
     },
     "metadata": {},
     "output_type": "display_data"
    },
    {
     "name": "stdout",
     "output_type": "stream",
     "text": [
      "Precision: 0.165\n",
      "Recall: 0.074\n",
      "F1: 0.103\n",
      "Test Accuracy: 0.967\n"
     ]
    }
   ],
   "source": [
    "confmat = confusion_matrix(y_true=y_test, y_pred=y_pred)\n",
    "fig, ax = plt.subplots(figsize=(2.5, 2.5))\n",
    "ax.matshow(confmat, cmap=plt.cm.Blues, alpha=0.3)\n",
    "for i in range(confmat.shape[0]):\n",
    "    for j in range(confmat.shape[1]):\n",
    "        ax.text(x=j, y=i, s=confmat[i, j], va='center', ha='center')\n",
    "\n",
    "plt.xlabel('Predicted label')\n",
    "plt.ylabel('True label')\n",
    "\n",
    "plt.tight_layout()\n",
    "#plt.savefig('images/06_09.png', dpi=300)\n",
    "plt.show()\n",
    "\n",
    "from sklearn.metrics import precision_score, recall_score, f1_score\n",
    "\n",
    "print('Precision: %.3f' % precision_score(y_true=y_test, y_pred=y_pred,pos_label=0))\n",
    "print('Recall: %.3f' % recall_score(y_true=y_test, y_pred=y_pred,pos_label=0))\n",
    "print('F1: %.3f' % f1_score(y_true=y_test, y_pred=y_pred,pos_label=0))\n",
    "print('Test Accuracy: %.3f' % pipe_xgb.score(X_test, y_test))"
   ]
  },
  {
   "cell_type": "markdown",
   "id": "4d6928ec",
   "metadata": {},
   "source": [
    "# Randon Forest"
   ]
  },
  {
   "cell_type": "code",
   "execution_count": 264,
   "id": "7729d7b9",
   "metadata": {},
   "outputs": [],
   "source": [
    "from sklearn.ensemble import RandomForestClassifier"
   ]
  },
  {
   "cell_type": "code",
   "execution_count": 266,
   "id": "b02beac6",
   "metadata": {},
   "outputs": [
    {
     "name": "stderr",
     "output_type": "stream",
     "text": [
      "D:\\anaconda\\conda\\lib\\site-packages\\xgboost\\sklearn.py:1395: UserWarning: `use_label_encoder` is deprecated in 1.7.0.\n",
      "  warnings.warn(\"`use_label_encoder` is deprecated in 1.7.0.\")\n"
     ]
    }
   ],
   "source": [
    "xgb = XGBClassifier(random_state=42, use_label_encoder=False, eval_metric='logloss')\n",
    "pipe_rf = make_pipeline(StandardScaler(),\n",
    "                        PCA(n_components=6),\n",
    "                        RandomForestClassifier(random_state=42,class_weight='balanced')\n",
    "                        )\n",
    "# class_weight='balanced'\n",
    "pipe_rf.fit(X_train, y_train)\n",
    "y_pred = pipe_rf.predict(X_test)"
   ]
  },
  {
   "cell_type": "code",
   "execution_count": 267,
   "id": "c91dc982",
   "metadata": {},
   "outputs": [
    {
     "data": {
      "image/png": "[encoded data removed]",
      "text/plain": [
       "<Figure size 250x250 with 1 Axes>"
      ]
     },
     "metadata": {},
     "output_type": "display_data"
    },
    {
     "name": "stdout",
     "output_type": "stream",
     "text": [
      "Precision: 0.263\n",
      "Recall: 0.003\n",
      "F1: 0.007\n",
      "Test Accuracy: 0.975\n"
     ]
    }
   ],
   "source": [
    "confmat = confusion_matrix(y_true=y_test, y_pred=y_pred)\n",
    "fig, ax = plt.subplots(figsize=(2.5, 2.5))\n",
    "ax.matshow(confmat, cmap=plt.cm.Blues, alpha=0.3)\n",
    "for i in range(confmat.shape[0]):\n",
    "    for j in range(confmat.shape[1]):\n",
    "        ax.text(x=j, y=i, s=confmat[i, j], va='center', ha='center')\n",
    "\n",
    "plt.xlabel('Predicted label')\n",
    "plt.ylabel('True label')\n",
    "\n",
    "plt.tight_layout()\n",
    "#plt.savefig('images/06_09.png', dpi=300)\n",
    "plt.show()\n",
    "\n",
    "from sklearn.metrics import precision_score, recall_score, f1_score\n",
    "\n",
    "print('Precision: %.3f' % precision_score(y_true=y_test, y_pred=y_pred,pos_label=0))\n",
    "print('Recall: %.3f' % recall_score(y_true=y_test, y_pred=y_pred,pos_label=0))\n",
    "print('F1: %.3f' % f1_score(y_true=y_test, y_pred=y_pred,pos_label=0))\n",
    "print('Test Accuracy: %.3f' % pipe_rf.score(X_test, y_test))"
   ]
  },
  {
   "cell_type": "markdown",
   "id": "7a134480",
   "metadata": {},
   "source": [
    "# Pineline and balanced class with decision tree"
   ]
  },
  {
   "cell_type": "code",
   "execution_count": 190,
   "id": "06d92c5f",
   "metadata": {},
   "outputs": [],
   "source": [
    "from sklearn.tree import DecisionTreeClassifier"
   ]
  },
  {
   "cell_type": "code",
   "execution_count": 227,
   "id": "4ccdeace",
   "metadata": {},
   "outputs": [],
   "source": [
    "pipe_dt = make_pipeline(StandardScaler(),\n",
    "                        PCA(n_components=6),\n",
    "                        DecisionTreeClassifier(random_state=1, class_weight='balanced'))\n",
    "# pipe_dt = make_pipeline(StandardScaler(),\n",
    "#                         PCA(n_components=6),\n",
    "#                         DecisionTreeClassifier(random_state=1))\n",
    "pipe_dt.fit(X_train, y_train)\n",
    "y_pred = pipe_dt.predict(X_test)"
   ]
  },
  {
   "cell_type": "code",
   "execution_count": 228,
   "id": "c1cbfc82",
   "metadata": {},
   "outputs": [
    {
     "data": {
      "image/png": "[encoded data removed]",
      "text/plain": [
       "<Figure size 250x250 with 1 Axes>"
      ]
     },
     "metadata": {},
     "output_type": "display_data"
    },
    {
     "name": "stdout",
     "output_type": "stream",
     "text": [
      "Precision: 0.047\n",
      "Recall: 0.071\n",
      "F1: 0.056\n",
      "Test Accuracy: 0.940\n"
     ]
    }
   ],
   "source": [
    "confmat = confusion_matrix(y_true=y_test, y_pred=y_pred)\n",
    "fig, ax = plt.subplots(figsize=(2.5, 2.5))\n",
    "ax.matshow(confmat, cmap=plt.cm.Blues, alpha=0.3)\n",
    "for i in range(confmat.shape[0]):\n",
    "    for j in range(confmat.shape[1]):\n",
    "        ax.text(x=j, y=i, s=confmat[i, j], va='center', ha='center')\n",
    "\n",
    "plt.xlabel('Predicted label')\n",
    "plt.ylabel('True label')\n",
    "\n",
    "plt.tight_layout()\n",
    "#plt.savefig('images/06_09.png', dpi=300)\n",
    "plt.show()\n",
    "\n",
    "from sklearn.metrics import precision_score, recall_score, f1_score\n",
    "\n",
    "print('Precision: %.3f' % precision_score(y_true=y_test, y_pred=y_pred,pos_label=0))\n",
    "print('Recall: %.3f' % recall_score(y_true=y_test, y_pred=y_pred,pos_label=0))\n",
    "print('F1: %.3f' % f1_score(y_true=y_test, y_pred=y_pred,pos_label=0))\n",
    "print('Test Accuracy: %.3f' % pipe_dt.score(X_test, y_test))"
   ]
  },
  {
   "cell_type": "markdown",
   "id": "dc3dd9f8",
   "metadata": {},
   "source": [
    "# Try to see if the performance will be better if there are only two variables¶"
   ]
  },
  {
   "cell_type": "code",
   "execution_count": 68,
   "id": "cc55cedc",
   "metadata": {},
   "outputs": [
    {
     "data": {
      "image/png": "[encoded data removed]",
      "text/plain": [
       "<Figure size 250x250 with 1 Axes>"
      ]
     },
     "metadata": {},
     "output_type": "display_data"
    },
    {
     "name": "stdout",
     "output_type": "stream",
     "text": [
      "Precision: 0.116\n",
      "Recall: 0.199\n",
      "F1: 0.147\n",
      "Test Accuracy: 0.942\n"
     ]
    }
   ],
   "source": [
    "ros = RandomOverSampler(random_state=42,sampling_strategy=0.5)\n",
    "X_resampled, y_resampled = ros.fit_resample(X_train_selected_std, Y_train)\n",
    "\n",
    "lr = LogisticRegression(C=1, random_state=2, solver='liblinear', multi_class='ovr')\n",
    "lr.fit(X_resampled, y_resampled)\n",
    "y_pred = lr.predict(X_test_selected_std)\n",
    "\n",
    "confmat = confusion_matrix(y_true=Y_test, y_pred=y_pred)\n",
    "fig, ax = plt.subplots(figsize=(2.5, 2.5))\n",
    "ax.matshow(confmat, cmap=plt.cm.Blues, alpha=0.3)\n",
    "for i in range(confmat.shape[0]):\n",
    "    for j in range(confmat.shape[1]):\n",
    "        ax.text(x=j, y=i, s=confmat[i, j], va='center', ha='center')\n",
    "\n",
    "plt.xlabel('Predicted label')\n",
    "plt.ylabel('True label')\n",
    "\n",
    "plt.tight_layout()\n",
    "#plt.savefig('images/06_09.png', dpi=300)\n",
    "plt.show()\n",
    "\n",
    "from sklearn.metrics import precision_score, recall_score, f1_score\n",
    "\n",
    "print('Precision: %.3f' % precision_score(y_true=Y_test, y_pred=y_pred,pos_label=0))\n",
    "print('Recall: %.3f' % recall_score(y_true=Y_test, y_pred=y_pred,pos_label=0))\n",
    "print('F1: %.3f' % f1_score(y_true=Y_test, y_pred=y_pred,pos_label=0))\n",
    "print('Test Accuracy: %.3f' % lr.score(X_test_selected_std, Y_test))"
   ]
  }
 ],
 "metadata": {
  "kernelspec": {
   "display_name": "Python 3 (ipykernel)",
   "language": "python",
   "name": "python3"
  },
  "language_info": {
   "codemirror_mode": {
    "name": "ipython",
    "version": 3
   },
   "file_extension": ".py",
   "mimetype": "text/x-python",
   "name": "python",
   "nbconvert_exporter": "python",
   "pygments_lexer": "ipython3",
   "version": "3.9.13"
  }
 },
 "nbformat": 4,
 "nbformat_minor": 5
}
